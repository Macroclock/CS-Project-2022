{
 "cells": [
  {
   "cell_type": "code",
   "execution_count": 19,
   "id": "5ea8a2ee",
   "metadata": {},
   "outputs": [],
   "source": [
    "tag_pubmed = [1,1,0,1,0,\n",
    "              0,0,1,1,0,\n",
    "              1,1,0,0,0,\n",
    "              1,1,1,1,1,\n",
    "              0,0,0,0,0,\n",
    "              0,1,1,0,1]\n",
    "\n",
    "\n",
    "tag_lr = [1,1,0,1,1,\n",
    "          1,1,1,1,0,\n",
    "          1,0,0,0,0,\n",
    "          1,1,1,1,1,\n",
    "          1,1,0,1,0,\n",
    "          1,1,1,0,1]\n",
    "tag_bert = [1,1,0,1,1,\n",
    "            1,1,1,1,0,\n",
    "            1,1,0,0,0,\n",
    "            1,1,0,1,1,\n",
    "            0,1,0,1,0,\n",
    "            1,1,1,0,1]\n",
    "tag_johan = [1,1,0,1,0,\n",
    "             1,1,1,1,0,\n",
    "             1,1,0,0,0,\n",
    "             1,1,1,0,1,\n",
    "             0,1,1,1,0,\n",
    "             1,1,1,0,1]"
   ]
  },
  {
   "cell_type": "code",
   "execution_count": 24,
   "id": "c14a9c85",
   "metadata": {},
   "outputs": [
    {
     "name": "stdout",
     "output_type": "stream",
     "text": [
      "The performance of PubMed:\n",
      "\n",
      "              precision    recall  f1-score   support\n",
      "\n",
      "           0       0.60      0.90      0.72        10\n",
      "           1       0.93      0.70      0.80        20\n",
      "\n",
      "    accuracy                           0.77        30\n",
      "   macro avg       0.77      0.80      0.76        30\n",
      "weighted avg       0.82      0.77      0.77        30\n",
      "\n",
      "Macro-F1 score: 0.76\n"
     ]
    }
   ],
   "source": [
    "## Evaluate the model\n",
    "from sklearn import metrics\n",
    "print(\"The performance of PubMed:\")\n",
    "print()\n",
    "f1 = metrics.f1_score(tag_johan, tag_pubmed, average='macro')\n",
    "print(metrics.classification_report(tag_johan, tag_pubmed))\n",
    "print(\"Macro-F1 score: {0}\".format(f1))"
   ]
  },
  {
   "cell_type": "code",
   "execution_count": 27,
   "id": "f9e8be30",
   "metadata": {},
   "outputs": [
    {
     "data": {
      "text/plain": [
       "0.8"
      ]
     },
     "execution_count": 27,
     "metadata": {},
     "output_type": "execute_result"
    }
   ],
   "source": [
    "p = metrics.recall_score(tag_johan, tag_pubmed, average='macro')\n",
    "p"
   ]
  },
  {
   "cell_type": "code",
   "execution_count": 23,
   "id": "dd79914f",
   "metadata": {},
   "outputs": [
    {
     "name": "stdout",
     "output_type": "stream",
     "text": [
      "The performance of logistic regression model:\n",
      "\n",
      "              precision    recall  f1-score   support\n",
      "\n",
      "           0       0.78      0.70      0.74        10\n",
      "           1       0.86      0.90      0.88        20\n",
      "\n",
      "    accuracy                           0.83        30\n",
      "   macro avg       0.82      0.80      0.81        30\n",
      "weighted avg       0.83      0.83      0.83        30\n",
      "\n",
      "Macro-F1 score: 0.8074454428754813\n"
     ]
    }
   ],
   "source": [
    "## Evaluate the model\n",
    "from sklearn import metrics\n",
    "print(\"The performance of logistic regression model:\")\n",
    "print()\n",
    "f1 = metrics.f1_score(tag_johan, tag_lr, average='macro')\n",
    "print(metrics.classification_report(tag_johan, tag_lr))\n",
    "print(\"Macro-F1 score: {0}\".format(f1))"
   ]
  },
  {
   "cell_type": "code",
   "execution_count": 7,
   "id": "f1b7bfd5",
   "metadata": {},
   "outputs": [
    {
     "name": "stdout",
     "output_type": "stream",
     "text": [
      "The performance of DistilBERT model:\n",
      "\n",
      "              precision    recall  f1-score   support\n",
      "\n",
      "           0       0.80      0.80      0.80        10\n",
      "           1       0.90      0.90      0.90        20\n",
      "\n",
      "    accuracy                           0.87        30\n",
      "   macro avg       0.85      0.85      0.85        30\n",
      "weighted avg       0.87      0.87      0.87        30\n",
      "\n",
      "Macro-F1 score: 0.8500000000000001\n"
     ]
    }
   ],
   "source": [
    "## Evaluate the model\n",
    "from sklearn import metrics\n",
    "print(\"The performance of DistilBERT model:\")\n",
    "print()\n",
    "f1 = metrics.f1_score(tag_johan, tag_bert, average='macro')\n",
    "print(metrics.classification_report(tag_johan, tag_bert))\n",
    "print(\"Macro-F1 score: {0}\".format(f1))"
   ]
  },
  {
   "cell_type": "code",
   "execution_count": null,
   "id": "ca52a55c",
   "metadata": {},
   "outputs": [],
   "source": []
  }
 ],
 "metadata": {
  "kernelspec": {
   "display_name": "Python 3 (ipykernel)",
   "language": "python",
   "name": "python3"
  },
  "language_info": {
   "codemirror_mode": {
    "name": "ipython",
    "version": 3
   },
   "file_extension": ".py",
   "mimetype": "text/x-python",
   "name": "python",
   "nbconvert_exporter": "python",
   "pygments_lexer": "ipython3",
   "version": "3.8.13"
  }
 },
 "nbformat": 4,
 "nbformat_minor": 5
}
