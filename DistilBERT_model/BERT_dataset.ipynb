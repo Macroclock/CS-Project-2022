{
 "cells": [
  {
   "cell_type": "code",
   "execution_count": 1,
   "id": "4327c9ee",
   "metadata": {},
   "outputs": [],
   "source": [
    "import os"
   ]
  },
  {
   "cell_type": "code",
   "execution_count": 2,
   "id": "ec144a90",
   "metadata": {},
   "outputs": [],
   "source": [
    "path = '../week3/training dataset/positive/'\n",
    "files= os.listdir(path)\n",
    "p_train_text = []\n",
    "for i in files:\n",
    "    with open(path + i,'r',encoding='UTF-8') as f:\n",
    "        p_train_text.append(f.read())"
   ]
  },
  {
   "cell_type": "code",
   "execution_count": 3,
   "id": "d486cac1",
   "metadata": {},
   "outputs": [],
   "source": [
    "path = '../week3/training dataset/negative/'\n",
    "files= os.listdir(path)\n",
    "n_train_text = []\n",
    "for i in files:\n",
    "    with open(path + i, 'r',encoding='UTF-8') as f:\n",
    "        n_train_text.append(f.read())"
   ]
  },
  {
   "cell_type": "code",
   "execution_count": 4,
   "id": "72d7707c",
   "metadata": {},
   "outputs": [],
   "source": [
    "path = '../week3/validation dataset/positive/'\n",
    "files= os.listdir(path)\n",
    "p_val_text = []\n",
    "for i in files:\n",
    "    with open(path + i, 'r',encoding='UTF-8') as f:\n",
    "        p_val_text.append(f.read())"
   ]
  },
  {
   "cell_type": "code",
   "execution_count": 5,
   "id": "c9ac8638",
   "metadata": {},
   "outputs": [],
   "source": [
    "path = '../week3/validation dataset/negative/'\n",
    "files= os.listdir(path)\n",
    "n_val_text = []\n",
    "for i in files:\n",
    "    with open(path + i,'r',encoding='UTF-8') as f:\n",
    "        n_val_text.append(f.read())"
   ]
  },
  {
   "cell_type": "code",
   "execution_count": 6,
   "id": "7c192f83",
   "metadata": {},
   "outputs": [],
   "source": [
    "path = '../week3/test dataset/positive/'\n",
    "files= os.listdir(path)\n",
    "p_test_text = []\n",
    "for i in files:\n",
    "    with open(path + i, 'r',encoding='UTF-8') as f:\n",
    "        p_test_text.append(f.read())"
   ]
  },
  {
   "cell_type": "code",
   "execution_count": 7,
   "id": "5f3719a2",
   "metadata": {},
   "outputs": [],
   "source": [
    "path = '../week3/test dataset/negative/'\n",
    "files= os.listdir(path)\n",
    "n_test_text = []\n",
    "for i in files:\n",
    "    with open(path + i,'r',encoding='UTF-8') as f:\n",
    "        n_test_text.append(f.read())"
   ]
  },
  {
   "cell_type": "code",
   "execution_count": 8,
   "id": "81176ae6",
   "metadata": {},
   "outputs": [],
   "source": [
    "p_train_label = [1]*len(p_train_text)\n",
    "p_val_label = [1]*len(p_val_text)\n",
    "p_test_label = [1]*len(p_test_text)\n",
    "n_train_label = [0]*len(n_train_text)\n",
    "n_val_label = [0]*len(n_val_text)\n",
    "n_test_label = [0]*len(n_test_text)"
   ]
  },
  {
   "cell_type": "code",
   "execution_count": 9,
   "id": "8b7956b5",
   "metadata": {},
   "outputs": [],
   "source": [
    "training_texts = p_train_text + n_train_text\n",
    "validation_texts = p_val_text + n_val_text\n",
    "test_texts = p_test_text + n_test_text\n",
    "training_labels = p_train_label + n_train_label\n",
    "validation_labels = p_val_label + n_val_label\n",
    "test_labels = p_test_label + n_test_label"
   ]
  },
  {
   "cell_type": "code",
   "execution_count": 10,
   "id": "f3870da8",
   "metadata": {},
   "outputs": [
    {
     "name": "stdout",
     "output_type": "stream",
     "text": [
      "2000\n",
      "1000\n",
      "13953\n",
      "2000\n",
      "1000\n",
      "13953\n"
     ]
    }
   ],
   "source": [
    "print(len(training_texts))\n",
    "print(len(validation_texts))\n",
    "print(len(test_texts))\n",
    "print(len(training_labels))\n",
    "print(len(validation_labels))\n",
    "print(len(test_labels))"
   ]
  },
  {
   "cell_type": "code",
   "execution_count": 11,
   "id": "8ac77172",
   "metadata": {},
   "outputs": [],
   "source": [
    "import json\n",
    "for i in range(len(training_texts)):\n",
    "    dict_={'text':training_texts[i],'label':training_labels[i]}\n",
    "    dict_json=json.dumps(dict_)\n",
    "\n",
    "    with open('mesh_train.json','a') as file:\n",
    "        file.write(dict_json)\n",
    "\n",
    "for i in range(len(validation_texts)):\n",
    "    dict_={'text':validation_texts[i],'label':validation_labels[i]}\n",
    "    dict_json=json.dumps(dict_)\n",
    "\n",
    "    with open('mesh_val.json','a') as file:\n",
    "        file.write(dict_json)\n",
    "        \n",
    "for i in range(len(test_texts)):\n",
    "    dict_={'text':test_texts[i],'label':test_labels[i]}\n",
    "    dict_json=json.dumps(dict_)\n",
    "\n",
    "    with open('mesh_test.json','a') as file:\n",
    "        file.write(dict_json)"
   ]
  },
  {
   "cell_type": "code",
   "execution_count": null,
   "id": "2fa58fd6",
   "metadata": {},
   "outputs": [],
   "source": []
  }
 ],
 "metadata": {
  "kernelspec": {
   "display_name": "Python 3 (ipykernel)",
   "language": "python",
   "name": "python3"
  },
  "language_info": {
   "codemirror_mode": {
    "name": "ipython",
    "version": 3
   },
   "file_extension": ".py",
   "mimetype": "text/x-python",
   "name": "python",
   "nbconvert_exporter": "python",
   "pygments_lexer": "ipython3",
   "version": "3.8.13"
  }
 },
 "nbformat": 4,
 "nbformat_minor": 5
}
