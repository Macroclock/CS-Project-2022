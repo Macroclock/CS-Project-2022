{
 "cells": [
  {
   "cell_type": "code",
   "execution_count": 1,
   "id": "dbe28082",
   "metadata": {},
   "outputs": [],
   "source": [
    "import tensorflow as tf\n",
    "import datasets\n",
    "import transformers\n",
    "import numpy as np\n",
    "from transformers import TFAutoModelForSequenceClassification"
   ]
  },
  {
   "cell_type": "code",
   "execution_count": 2,
   "id": "ad3304df",
   "metadata": {},
   "outputs": [
    {
     "name": "stderr",
     "output_type": "stream",
     "text": [
      "All model checkpoint layers were used when initializing TFDistilBertForSequenceClassification.\n",
      "\n",
      "All the layers of TFDistilBertForSequenceClassification were initialized from the model checkpoint at distilbert-base-uncased-finetuned-sst-2-english.\n",
      "If your task is similar to the task the model of the checkpoint was trained on, you can already use TFDistilBertForSequenceClassification for predictions without further training.\n"
     ]
    },
    {
     "data": {
      "text/plain": [
       "<tensorflow.python.training.tracking.util.CheckpointLoadStatus at 0x232a0a25070>"
      ]
     },
     "execution_count": 2,
     "metadata": {},
     "output_type": "execute_result"
    }
   ],
   "source": [
    "checkpoint = \"distilbert-base-uncased-finetuned-sst-2-english\"\n",
    "model = TFAutoModelForSequenceClassification.from_pretrained(checkpoint)\n",
    "model.load_weights(\"epoch3/mesh_model_checkpoint\")"
   ]
  },
  {
   "cell_type": "code",
   "execution_count": 3,
   "id": "82241a4b",
   "metadata": {},
   "outputs": [
    {
     "name": "stderr",
     "output_type": "stream",
     "text": [
      "Using custom data configuration default-65c47fb3ef1db577\n",
      "Reusing dataset json (C:\\Users\\13056\\.cache\\huggingface\\datasets\\json\\default-65c47fb3ef1db577\\0.0.0\\ac0ca5f5289a6cf108e706efcf040422dbbfa8e658dee6a819f20d76bb84d26b)\n"
     ]
    },
    {
     "data": {
      "application/vnd.jupyter.widget-view+json": {
       "model_id": "322dec72feeb45e5ba09013ad906fe7c",
       "version_major": 2,
       "version_minor": 0
      },
      "text/plain": [
       "  0%|          | 0/4 [00:00<?, ?it/s]"
      ]
     },
     "metadata": {},
     "output_type": "display_data"
    },
    {
     "name": "stderr",
     "output_type": "stream",
     "text": [
      "Using custom data configuration default-1948e17679d22c95\n",
      "Reusing dataset json (C:\\Users\\13056\\.cache\\huggingface\\datasets\\json\\default-1948e17679d22c95\\0.0.0\\ac0ca5f5289a6cf108e706efcf040422dbbfa8e658dee6a819f20d76bb84d26b)\n"
     ]
    },
    {
     "data": {
      "application/vnd.jupyter.widget-view+json": {
       "model_id": "d4a57135468f4deb8b2b5953ba355700",
       "version_major": 2,
       "version_minor": 0
      },
      "text/plain": [
       "  0%|          | 0/1 [00:00<?, ?it/s]"
      ]
     },
     "metadata": {},
     "output_type": "display_data"
    },
    {
     "data": {
      "application/vnd.jupyter.widget-view+json": {
       "model_id": "845d328b80f249549399961b18511545",
       "version_major": 2,
       "version_minor": 0
      },
      "text/plain": [
       "  0%|          | 0/2 [00:00<?, ?ba/s]"
      ]
     },
     "metadata": {},
     "output_type": "display_data"
    },
    {
     "name": "stderr",
     "output_type": "stream",
     "text": [
      "Token indices sequence length is longer than the specified maximum sequence length for this model (611 > 512). Running this sequence through the model will result in indexing errors\n"
     ]
    },
    {
     "data": {
      "application/vnd.jupyter.widget-view+json": {
       "model_id": "9e4c200d223346c8a3cfed10654f58de",
       "version_major": 2,
       "version_minor": 0
      },
      "text/plain": [
       "  0%|          | 0/1 [00:00<?, ?ba/s]"
      ]
     },
     "metadata": {},
     "output_type": "display_data"
    },
    {
     "data": {
      "application/vnd.jupyter.widget-view+json": {
       "model_id": "e7a7d65fe06d4d4ea83e7ff7f7082739",
       "version_major": 2,
       "version_minor": 0
      },
      "text/plain": [
       "  0%|          | 0/14 [00:00<?, ?ba/s]"
      ]
     },
     "metadata": {},
     "output_type": "display_data"
    },
    {
     "data": {
      "application/vnd.jupyter.widget-view+json": {
       "model_id": "d93c267ada9946a08b1e0d683def3a90",
       "version_major": 2,
       "version_minor": 0
      },
      "text/plain": [
       "  0%|          | 0/1 [00:00<?, ?ba/s]"
      ]
     },
     "metadata": {},
     "output_type": "display_data"
    },
    {
     "data": {
      "application/vnd.jupyter.widget-view+json": {
       "model_id": "13349b236fb64eb4a4932042c7eacbfb",
       "version_major": 2,
       "version_minor": 0
      },
      "text/plain": [
       "  0%|          | 0/17 [00:00<?, ?ba/s]"
      ]
     },
     "metadata": {},
     "output_type": "display_data"
    }
   ],
   "source": [
    "from datasets import load_dataset\n",
    "from transformers import AutoTokenizer, DataCollatorWithPadding\n",
    "\n",
    "raw_datasets = load_dataset(\"json\", data_files={\"train\": \"dataset/mesh_train.json\",\"validation\":\"dataset/mesh_val.json\",\n",
    "                                                \"test\": \"dataset/mesh_test.json\", \"30_test\":\"dataset/30_articles.json\"})\n",
    "\n",
    "datasets = load_dataset(\"json\", data_files={\"whole\":[\"dataset/mesh_train.json\",\"dataset/mesh_val.json\",\"dataset/mesh_test.json\"]})\n",
    "\n",
    "checkpoint = \"distilbert-base-uncased-finetuned-sst-2-english\"\n",
    "tokenizer = AutoTokenizer.from_pretrained(checkpoint)\n",
    "\n",
    "\n",
    "def tokenize_function(example):\n",
    "    return tokenizer(example[\"text\"])\n",
    "\n",
    "\n",
    "tokenized_datasets = raw_datasets.map(tokenize_function, batched=True)\n",
    "tokenized_whole_datasets = datasets.map(tokenize_function, batched=True)\n",
    "\n",
    "# put together samples inside a batch and convert your samples to tf.Tensor and concatenate them\n",
    "data_collator = DataCollatorWithPadding(tokenizer=tokenizer, return_tensors=\"tf\")\n",
    "\n",
    "tf_train_dataset = tokenized_datasets[\"train\"].to_tf_dataset(\n",
    "    columns=[\"attention_mask\", \"input_ids\", \"token_type_ids\"],\n",
    "    label_cols=[\"label\"],\n",
    "    shuffle=True,\n",
    "    collate_fn=data_collator,\n",
    "    batch_size=2,\n",
    ")\n",
    "\n",
    "tf_validation_dataset = tokenized_datasets[\"validation\"].to_tf_dataset(\n",
    "    columns=[\"attention_mask\", \"input_ids\", \"token_type_ids\"],\n",
    "    label_cols=[\"label\"],\n",
    "    shuffle=False,\n",
    "    collate_fn=data_collator,\n",
    "    batch_size=2,\n",
    ")\n",
    "\n",
    "tf_test_dataset = tokenized_datasets[\"test\"].to_tf_dataset(\n",
    "    columns=[\"attention_mask\", \"input_ids\", \"token_type_ids\"],\n",
    "    label_cols=[\"label\"],\n",
    "    shuffle=False,\n",
    "    collate_fn=data_collator,\n",
    "    batch_size=2,\n",
    ")\n",
    "\n",
    "tf_30test_dataset = tokenized_datasets[\"30_test\"].to_tf_dataset(\n",
    "    columns=[\"attention_mask\", \"input_ids\", \"token_type_ids\"],\n",
    "    label_cols=[\"label\"],\n",
    "    shuffle=False,\n",
    "    collate_fn=data_collator,\n",
    "    batch_size=2,\n",
    ")"
   ]
  },
  {
   "cell_type": "code",
   "execution_count": 4,
   "id": "7175b0ba",
   "metadata": {},
   "outputs": [],
   "source": [
    "tf_trainn_dataset = tokenized_datasets[\"train\"].to_tf_dataset(\n",
    "    columns=[\"attention_mask\", \"input_ids\", \"token_type_ids\"],\n",
    "    label_cols=[\"label\"],\n",
    "    shuffle=False,\n",
    "    collate_fn=data_collator,\n",
    "    batch_size=2,\n",
    ")\n",
    "\n",
    "tf_all_dataset = tokenized_whole_datasets[\"whole\"].to_tf_dataset(\n",
    "    columns=[\"attention_mask\", \"input_ids\", \"token_type_ids\"],\n",
    "    label_cols=[\"label\"],\n",
    "    shuffle=False,\n",
    "    collate_fn=data_collator,\n",
    "    batch_size=2,\n",
    ")"
   ]
  },
  {
   "cell_type": "markdown",
   "id": "efb93cf1",
   "metadata": {},
   "source": [
    "### Training dataset"
   ]
  },
  {
   "cell_type": "code",
   "execution_count": 5,
   "id": "9276bea8",
   "metadata": {},
   "outputs": [
    {
     "name": "stdout",
     "output_type": "stream",
     "text": [
      "(2000, 2) (2000,)\n",
      "accuracy 0.9635\n"
     ]
    }
   ],
   "source": [
    "train_pred = model.predict(tf_trainn_dataset)[\"logits\"]\n",
    "train_class_pred = np.argmax(train_pred, axis=1)\n",
    "train_score = np.mean(train_class_pred==raw_datasets[\"train\"][\"label\"])\n",
    "print(train_pred.shape, train_class_pred.shape)\n",
    "print(\"accuracy\",train_score)"
   ]
  },
  {
   "cell_type": "code",
   "execution_count": 6,
   "id": "88b28bae",
   "metadata": {},
   "outputs": [
    {
     "name": "stdout",
     "output_type": "stream",
     "text": [
      "              precision    recall  f1-score   support\n",
      "\n",
      "           0       0.94      0.99      0.96      1000\n",
      "           1       0.99      0.94      0.96      1000\n",
      "\n",
      "    accuracy                           0.96      2000\n",
      "   macro avg       0.96      0.96      0.96      2000\n",
      "weighted avg       0.96      0.96      0.96      2000\n",
      "\n",
      "Macro-F1 score:0.9634798317370767\n"
     ]
    }
   ],
   "source": [
    "from sklearn import metrics\n",
    "f1 = metrics.f1_score(raw_datasets[\"train\"][\"label\"],train_class_pred, average=\"macro\")\n",
    "print(metrics.classification_report(raw_datasets[\"train\"][\"label\"], train_class_pred))\n",
    "print(\"Macro-F1 score:{0}\".format(f1))"
   ]
  },
  {
   "cell_type": "code",
   "execution_count": 7,
   "id": "96f8867a",
   "metadata": {},
   "outputs": [
    {
     "data": {
      "image/png": "[encoded data removed]",
      "text/plain": [
       "<Figure size 720x720 with 2 Axes>"
      ]
     },
     "metadata": {
      "needs_background": "light"
     },
     "output_type": "display_data"
    }
   ],
   "source": [
    "## Evaluate the model\n",
    "import seaborn as sns\n",
    "import matplotlib.pyplot as plt\n",
    "cm = metrics.confusion_matrix(raw_datasets[\"train\"][\"label\"], train_class_pred)\n",
    "plt.figure(figsize=(10,10))\n",
    "sns.heatmap(cm, annot=True, fmt=\".0f\", linewidths=1, square = True);\n",
    "plt.ylabel('Actual label');\n",
    "plt.xlabel('Predicted label');\n",
    "plt.title('Accuracy Score: {0}'.format(train_score), size = 8);"
   ]
  },
  {
   "cell_type": "markdown",
   "id": "2c8cfc67",
   "metadata": {},
   "source": [
    "### Validation dataset"
   ]
  },
  {
   "cell_type": "code",
   "execution_count": 8,
   "id": "257c6037",
   "metadata": {},
   "outputs": [
    {
     "name": "stdout",
     "output_type": "stream",
     "text": [
      "(1000, 2) (1000,)\n",
      "accuracy 0.912\n"
     ]
    }
   ],
   "source": [
    "val_pred = model.predict(tf_validation_dataset)[\"logits\"]\n",
    "val_class_pred = np.argmax(val_pred, axis=1)\n",
    "val_score = np.mean(val_class_pred==raw_datasets[\"validation\"][\"label\"])\n",
    "print(val_pred.shape, val_class_pred.shape)\n",
    "print(\"accuracy\",val_score)"
   ]
  },
  {
   "cell_type": "code",
   "execution_count": 9,
   "id": "1a857c0c",
   "metadata": {},
   "outputs": [
    {
     "name": "stdout",
     "output_type": "stream",
     "text": [
      "              precision    recall  f1-score   support\n",
      "\n",
      "           0       0.92      0.91      0.91       500\n",
      "           1       0.91      0.92      0.91       500\n",
      "\n",
      "    accuracy                           0.91      1000\n",
      "   macro avg       0.91      0.91      0.91      1000\n",
      "weighted avg       0.91      0.91      0.91      1000\n",
      "\n",
      "Macro-F1 score:0.9119985919774716\n"
     ]
    }
   ],
   "source": [
    "from sklearn import metrics\n",
    "f1 = metrics.f1_score(raw_datasets[\"validation\"][\"label\"],val_class_pred, average=\"macro\")\n",
    "print(metrics.classification_report(raw_datasets[\"validation\"][\"label\"], val_class_pred))\n",
    "print(\"Macro-F1 score:{0}\".format(f1))"
   ]
  },
  {
   "cell_type": "code",
   "execution_count": 10,
   "id": "cc2da6bc",
   "metadata": {},
   "outputs": [
    {
     "data": {
      "image/png": "[encoded data removed]",
      "text/plain": [
       "<Figure size 720x720 with 2 Axes>"
      ]
     },
     "metadata": {
      "needs_background": "light"
     },
     "output_type": "display_data"
    }
   ],
   "source": [
    "## Evaluate the model\n",
    "import seaborn as sns\n",
    "import matplotlib.pyplot as plt\n",
    "cm = metrics.confusion_matrix(raw_datasets[\"validation\"][\"label\"], val_class_pred)\n",
    "plt.figure(figsize=(10,10))\n",
    "sns.heatmap(cm, annot=True, fmt=\".0f\", linewidths=1, square = True);\n",
    "plt.ylabel('Actual label');\n",
    "plt.xlabel('Predicted label');\n",
    "plt.title('Accuracy Score: {0}'.format(val_score), size = 8);"
   ]
  },
  {
   "cell_type": "markdown",
   "id": "1bbd9aeb",
   "metadata": {},
   "source": [
    "### Test dataset"
   ]
  },
  {
   "cell_type": "code",
   "execution_count": 11,
   "id": "2769c567",
   "metadata": {},
   "outputs": [
    {
     "name": "stdout",
     "output_type": "stream",
     "text": [
      "(13953, 2) (13953,)\n",
      "accuracy 0.7057980362646026\n"
     ]
    }
   ],
   "source": [
    "test_pred = model.predict(tf_test_dataset)[\"logits\"]\n",
    "test_class_pred = np.argmax(test_pred, axis=1)\n",
    "test_score = np.mean(test_class_pred==raw_datasets[\"test\"][\"label\"])\n",
    "print(test_pred.shape, test_class_pred.shape)\n",
    "print(\"accuracy\",test_score)"
   ]
  },
  {
   "cell_type": "code",
   "execution_count": 12,
   "id": "660ac604",
   "metadata": {},
   "outputs": [
    {
     "name": "stdout",
     "output_type": "stream",
     "text": [
      "              precision    recall  f1-score   support\n",
      "\n",
      "           0       1.00      0.70      0.82     13707\n",
      "           1       0.05      0.92      0.10       246\n",
      "\n",
      "    accuracy                           0.71     13953\n",
      "   macro avg       0.53      0.81      0.46     13953\n",
      "weighted avg       0.98      0.71      0.81     13953\n",
      "\n",
      "Macro-F1 score:0.4618788270345299\n"
     ]
    }
   ],
   "source": [
    "from sklearn import metrics\n",
    "f1 = metrics.f1_score(raw_datasets[\"test\"][\"label\"],test_class_pred, average=\"macro\")\n",
    "print(metrics.classification_report(raw_datasets[\"test\"][\"label\"], test_class_pred))\n",
    "print(\"Macro-F1 score:{0}\".format(f1))"
   ]
  },
  {
   "cell_type": "code",
   "execution_count": 13,
   "id": "14254386",
   "metadata": {},
   "outputs": [
    {
     "data": {
      "image/png": "[encoded data removed]",
      "text/plain": [
       "<Figure size 720x720 with 2 Axes>"
      ]
     },
     "metadata": {
      "needs_background": "light"
     },
     "output_type": "display_data"
    }
   ],
   "source": [
    "## Evaluate the model\n",
    "import seaborn as sns\n",
    "import matplotlib.pyplot as plt\n",
    "cm = metrics.confusion_matrix(raw_datasets[\"test\"][\"label\"], test_class_pred)\n",
    "plt.figure(figsize=(10,10))\n",
    "sns.heatmap(cm, annot=True, fmt=\".0f\", linewidths=1, square = True);\n",
    "plt.ylabel('Actual label');\n",
    "plt.xlabel('Predicted label');\n",
    "plt.title('Accuracy Score: {0}'.format(test_score), size = 8);"
   ]
  },
  {
   "cell_type": "markdown",
   "id": "af38b005",
   "metadata": {},
   "source": [
    "### 30 articles\n"
   ]
  },
  {
   "cell_type": "code",
   "execution_count": 14,
   "id": "aeba7ca8",
   "metadata": {},
   "outputs": [
    {
     "name": "stdout",
     "output_type": "stream",
     "text": [
      "(30, 2) (30,)\n",
      "accuracy 0.7666666666666667\n"
     ]
    }
   ],
   "source": [
    "test_pred = model.predict(tf_30test_dataset)[\"logits\"]\n",
    "test_class_pred = np.argmax(test_pred, axis=1)\n",
    "test_score = np.mean(test_class_pred==raw_datasets[\"30_test\"][\"label\"])\n",
    "print(test_pred.shape, test_class_pred.shape)\n",
    "print(\"accuracy\",test_score)"
   ]
  },
  {
   "cell_type": "code",
   "execution_count": 15,
   "id": "84215fa5",
   "metadata": {},
   "outputs": [
    {
     "name": "stdout",
     "output_type": "stream",
     "text": [
      "              precision    recall  f1-score   support\n",
      "\n",
      "           0       0.90      0.60      0.72        15\n",
      "           1       0.70      0.93      0.80        15\n",
      "\n",
      "    accuracy                           0.77        30\n",
      "   macro avg       0.80      0.77      0.76        30\n",
      "weighted avg       0.80      0.77      0.76        30\n",
      "\n",
      "Macro-F1 score:0.76\n"
     ]
    }
   ],
   "source": [
    "from sklearn import metrics\n",
    "f1 = metrics.f1_score(raw_datasets[\"30_test\"][\"label\"],test_class_pred, average=\"macro\")\n",
    "print(metrics.classification_report(raw_datasets[\"30_test\"][\"label\"], test_class_pred))\n",
    "print(\"Macro-F1 score:{0}\".format(f1))"
   ]
  },
  {
   "cell_type": "code",
   "execution_count": 16,
   "id": "f000408a",
   "metadata": {},
   "outputs": [
    {
     "data": {
      "image/png": "[encoded data removed]",
      "text/plain": [
       "<Figure size 720x720 with 2 Axes>"
      ]
     },
     "metadata": {
      "needs_background": "light"
     },
     "output_type": "display_data"
    }
   ],
   "source": [
    "## Evaluate the model\n",
    "import seaborn as sns\n",
    "import matplotlib.pyplot as plt\n",
    "cm = metrics.confusion_matrix(raw_datasets[\"30_test\"][\"label\"], test_class_pred)\n",
    "plt.figure(figsize=(10,10))\n",
    "sns.heatmap(cm, annot=True, fmt=\".0f\", linewidths=1, square = True);\n",
    "plt.ylabel('Actual label');\n",
    "plt.xlabel('Predicted label');\n",
    "plt.title('Accuracy Score: {0}'.format(test_score), size = 8);"
   ]
  },
  {
   "cell_type": "code",
   "execution_count": 17,
   "id": "73fe1d12",
   "metadata": {},
   "outputs": [
    {
     "name": "stdout",
     "output_type": "stream",
     "text": [
      "NO: 5 doesn't have qualifier while classfied as positive\n",
      "NO: 6 doesn't have qualifier while classfied as positive\n",
      "NO: 7 doesn't have qualifier while classfied as positive\n",
      "NO: 18 has qualifier while classfied as negative\n",
      "NO: 22 doesn't have qualifier while classfied as positive\n",
      "NO: 24 doesn't have qualifier while classfied as positive\n",
      "NO: 26 doesn't have qualifier while classfied as positive\n"
     ]
    }
   ],
   "source": [
    "for i in range(30):\n",
    "    if test_class_pred[i] == 0 and int(raw_datasets[\"30_test\"][\"label\"][i]) == 1:\n",
    "        print(\"NO: %d\" % (i+1) , \"has qualifier while classfied as negative\")\n",
    "    if test_class_pred[i] == 1 and int(raw_datasets[\"30_test\"][\"label\"][i]) == 0:\n",
    "        print(\"NO: %d\" % (i+1) , \"doesn't have qualifier while classfied as positive\") "
   ]
  },
  {
   "cell_type": "code",
   "execution_count": 18,
   "id": "ebafe5fe",
   "metadata": {},
   "outputs": [
    {
     "name": "stdout",
     "output_type": "stream",
     "text": [
      "[1 1 0 1 1 1 1 1 1 0 1 1 0 0 0 1 1 0 1 1 0 1 0 1 0 1 1 1 0 1]\n"
     ]
    }
   ],
   "source": [
    "print(test_class_pred)"
   ]
  },
  {
   "cell_type": "markdown",
   "id": "cf736361",
   "metadata": {},
   "source": [
    "### The whole dataset"
   ]
  },
  {
   "cell_type": "code",
   "execution_count": 19,
   "id": "d3472266",
   "metadata": {},
   "outputs": [
    {
     "name": "stdout",
     "output_type": "stream",
     "text": [
      "(16953, 2) (16953,)\n",
      "accuracy 0.7483631215714033\n"
     ]
    }
   ],
   "source": [
    "test_pred = model.predict(tf_all_dataset)[\"logits\"]\n",
    "test_class_pred = np.argmax(test_pred, axis=1)\n",
    "test_score = np.mean(test_class_pred==datasets[\"whole\"][\"label\"])\n",
    "print(test_pred.shape, test_class_pred.shape)\n",
    "print(\"accuracy\",test_score)"
   ]
  },
  {
   "cell_type": "code",
   "execution_count": 20,
   "id": "d2b05ce7",
   "metadata": {},
   "outputs": [
    {
     "name": "stdout",
     "output_type": "stream",
     "text": [
      "              precision    recall  f1-score   support\n",
      "\n",
      "           0       0.99      0.73      0.84     15207\n",
      "           1       0.28      0.93      0.43      1746\n",
      "\n",
      "    accuracy                           0.75     16953\n",
      "   macro avg       0.64      0.83      0.64     16953\n",
      "weighted avg       0.92      0.75      0.80     16953\n",
      "\n",
      "Macro-F1 score:0.6353793579381292\n"
     ]
    }
   ],
   "source": [
    "from sklearn import metrics\n",
    "f1 = metrics.f1_score(datasets[\"whole\"][\"label\"],test_class_pred, average=\"macro\")\n",
    "print(metrics.classification_report(datasets[\"whole\"][\"label\"], test_class_pred))\n",
    "print(\"Macro-F1 score:{0}\".format(f1))"
   ]
  },
  {
   "cell_type": "code",
   "execution_count": 21,
   "id": "8e3b9db6",
   "metadata": {},
   "outputs": [
    {
     "data": {
      "image/png": "[encoded data removed]",
      "text/plain": [
       "<Figure size 720x720 with 2 Axes>"
      ]
     },
     "metadata": {
      "needs_background": "light"
     },
     "output_type": "display_data"
    }
   ],
   "source": [
    "## Evaluate the model\n",
    "import seaborn as sns\n",
    "import matplotlib.pyplot as plt\n",
    "cm = metrics.confusion_matrix(datasets[\"whole\"][\"label\"], test_class_pred)\n",
    "plt.figure(figsize=(10,10))\n",
    "sns.heatmap(cm, annot=True, fmt=\".0f\", linewidths=1, square = True);\n",
    "plt.ylabel('Actual label');\n",
    "plt.xlabel('Predicted label');\n",
    "plt.title('Accuracy Score: {0}'.format(test_score), size = 8);"
   ]
  },
  {
   "cell_type": "code",
   "execution_count": null,
   "id": "245c3f4f",
   "metadata": {},
   "outputs": [],
   "source": []
  }
 ],
 "metadata": {
  "kernelspec": {
   "display_name": "Python 3 (ipykernel)",
   "language": "python",
   "name": "python3"
  },
  "language_info": {
   "codemirror_mode": {
    "name": "ipython",
    "version": 3
   },
   "file_extension": ".py",
   "mimetype": "text/x-python",
   "name": "python",
   "nbconvert_exporter": "python",
   "pygments_lexer": "ipython3",
   "version": "3.8.13"
  }
 },
 "nbformat": 4,
 "nbformat_minor": 5
}
