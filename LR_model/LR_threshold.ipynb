{
 "cells": [
  {
   "cell_type": "markdown",
   "id": "17083e00",
   "metadata": {},
   "source": [
    "### Construct the model with sci-ki learn"
   ]
  },
  {
   "cell_type": "code",
   "execution_count": 1,
   "id": "1f82f20a",
   "metadata": {},
   "outputs": [],
   "source": [
    "## Load all the 1000*2 training dataset scraped\n",
    "from sklearn.datasets import load_files\n",
    "\n",
    "PATH = 'training dataset'\n",
    "DESCR = 'positive negative dataset'\n",
    "categories = ['positive', 'negative']\n",
    "train_data = load_files(container_path=PATH, description=DESCR, shuffle=True, random_state = 20)\n",
    "for i in range(len(train_data.data)):\n",
    "    train_data.data[i] = str(train_data.data[i])\n",
    "    train_data.data[i] = train_data.data[i].replace(train_data.data[i][0:2], \"\")\n",
    "    train_data.data[i] = train_data.data[i].replace(train_data.data[i][-1], \"\")"
   ]
  },
  {
   "cell_type": "code",
   "execution_count": 2,
   "id": "3716f9de",
   "metadata": {},
   "outputs": [
    {
     "data": {
      "text/plain": [
       "Pipeline(steps=[('vect', CountVectorizer()), ('tfidf', TfidfTransformer()),\n",
       "                ('clf', LogisticRegression())])"
      ]
     },
     "execution_count": 2,
     "metadata": {},
     "output_type": "execute_result"
    }
   ],
   "source": [
    "## Construct the popeline\n",
    "from sklearn.pipeline import Pipeline\n",
    "from sklearn.feature_extraction.text import CountVectorizer\n",
    "from sklearn.feature_extraction.text import TfidfTransformer\n",
    "from sklearn.linear_model import LogisticRegression\n",
    "text_clf = Pipeline([\n",
    "    ('vect', CountVectorizer()),\n",
    "    ('tfidf', TfidfTransformer()),\n",
    "    ('clf', LogisticRegression())\n",
    "])\n",
    "text_clf.fit(train_data.data, train_data.target)"
   ]
  },
  {
   "cell_type": "code",
   "execution_count": 3,
   "id": "04bea305",
   "metadata": {
    "scrolled": true
   },
   "outputs": [
    {
     "name": "stderr",
     "output_type": "stream",
     "text": [
      "Using custom data configuration default-b13d81032a6e02d1\n"
     ]
    },
    {
     "name": "stdout",
     "output_type": "stream",
     "text": [
      "Downloading and preparing dataset json/default to C:\\Users\\13056\\.cache\\huggingface\\datasets\\json\\default-b13d81032a6e02d1\\0.0.0\\ac0ca5f5289a6cf108e706efcf040422dbbfa8e658dee6a819f20d76bb84d26b...\n"
     ]
    },
    {
     "data": {
      "application/vnd.jupyter.widget-view+json": {
       "model_id": "0136f04b95a5405d862350f0506c333a",
       "version_major": 2,
       "version_minor": 0
      },
      "text/plain": [
       "Downloading data files:   0%|          | 0/1 [00:00<?, ?it/s]"
      ]
     },
     "metadata": {},
     "output_type": "display_data"
    },
    {
     "data": {
      "application/vnd.jupyter.widget-view+json": {
       "model_id": "77c66e2e0131414f83f73882131a6a9a",
       "version_major": 2,
       "version_minor": 0
      },
      "text/plain": [
       "Extracting data files:   0%|          | 0/1 [00:00<?, ?it/s]"
      ]
     },
     "metadata": {},
     "output_type": "display_data"
    },
    {
     "name": "stdout",
     "output_type": "stream",
     "text": [
      "Dataset json downloaded and prepared to C:\\Users\\13056\\.cache\\huggingface\\datasets\\json\\default-b13d81032a6e02d1\\0.0.0\\ac0ca5f5289a6cf108e706efcf040422dbbfa8e658dee6a819f20d76bb84d26b. Subsequent calls will reuse this data.\n"
     ]
    },
    {
     "data": {
      "application/vnd.jupyter.widget-view+json": {
       "model_id": "1c475f56a89b4e299a0db8084a5fb4fa",
       "version_major": 2,
       "version_minor": 0
      },
      "text/plain": [
       "  0%|          | 0/1 [00:00<?, ?it/s]"
      ]
     },
     "metadata": {},
     "output_type": "display_data"
    }
   ],
   "source": [
    "from datasets import load_dataset\n",
    "raw_datasets = load_dataset(\"json\", data_files={\"test\": [\"mesh_train.json\",\"mesh_val.json\",\"mesh_test.json\"]})"
   ]
  },
  {
   "cell_type": "markdown",
   "id": "96e17a44",
   "metadata": {},
   "source": [
    "### Change the threshold to see the difference"
   ]
  },
  {
   "cell_type": "code",
   "execution_count": 4,
   "id": "dab2a644",
   "metadata": {},
   "outputs": [
    {
     "name": "stdout",
     "output_type": "stream",
     "text": [
      "Accuracy:  0.7178080575709314\n"
     ]
    }
   ],
   "source": [
    "## Load all the 1000*2 training dataset scraped\n",
    "import numpy as np\n",
    "categories = ['negative','positive']\n",
    "test_data = raw_datasets[\"test\"][\"text\"]\n",
    "test_target = raw_datasets[\"test\"][\"label\"]\n",
    "threshold = 0.5 # change the threshold\n",
    "\n",
    "pred_prob = text_clf.predict_proba(test_data)  \n",
    "predicted = np.where(pred_prob[:,1] > threshold, 1, 0)\n",
    "score = np.mean(predicted == test_target)\n",
    "print(\"Accuracy: \",score)"
   ]
  },
  {
   "cell_type": "code",
   "execution_count": 5,
   "id": "a87c1d32",
   "metadata": {},
   "outputs": [
    {
     "name": "stdout",
     "output_type": "stream",
     "text": [
      "              precision    recall  f1-score   support\n",
      "\n",
      "    negative       0.99      0.69      0.82     15207\n",
      "    positive       0.26      0.92      0.40      1746\n",
      "\n",
      "    accuracy                           0.72     16953\n",
      "   macro avg       0.62      0.81      0.61     16953\n",
      "weighted avg       0.91      0.72      0.77     16953\n",
      "\n",
      "Macro-F1 score: 0.6086661777194472\n"
     ]
    }
   ],
   "source": [
    "## Evaluate the model\n",
    "from sklearn import metrics\n",
    "f1 = metrics.f1_score(test_target, predicted, average='macro')\n",
    "print(metrics.classification_report(test_target, predicted, target_names=categories))\n",
    "print(\"Macro-F1 score: {0}\".format(f1))"
   ]
  },
  {
   "cell_type": "code",
   "execution_count": 6,
   "id": "51452756",
   "metadata": {},
   "outputs": [
    {
     "data": {
      "image/png": "[encoded data removed]",
      "text/plain": [
       "<Figure size 720x720 with 2 Axes>"
      ]
     },
     "metadata": {
      "needs_background": "light"
     },
     "output_type": "display_data"
    }
   ],
   "source": [
    "## Evaluate the model\n",
    "import seaborn as sns\n",
    "import matplotlib.pyplot as plt\n",
    "cm = metrics.confusion_matrix(test_target, predicted)\n",
    "plt.figure(figsize=(10,10))\n",
    "sns.heatmap(cm, annot=True, fmt=\".0f\", linewidths=1, square = True);\n",
    "plt.ylabel('Actual label');\n",
    "plt.xlabel('Predicted label');\n",
    "plt.title('Accuracy Score: {0}'.format(score), size = 8);"
   ]
  },
  {
   "cell_type": "markdown",
   "id": "b67c095b",
   "metadata": {},
   "source": [
    "### Summary"
   ]
  },
  {
   "cell_type": "code",
   "execution_count": 7,
   "id": "8b1ddd4e",
   "metadata": {},
   "outputs": [],
   "source": [
    "sz_whole = len(test_target)\n",
    "sz_p = sum(test_target)\n",
    "sz_n = sz_whole - sz_p"
   ]
  },
  {
   "cell_type": "code",
   "execution_count": 8,
   "id": "c2b61929",
   "metadata": {
    "scrolled": true
   },
   "outputs": [
    {
     "name": "stdout",
     "output_type": "stream",
     "text": [
      "The size of the whole dataset (articles with MeSH term: Heart Transplantation):  16953\n",
      "The size of the positive dataset (articles with MeSH term: Heart Transplantation and with Qualifier: Mortality):  1746\n",
      "The size of the negative dataset (articles with MeSH term: Heart Transplantation and without Qualifier: Mortality):  15207\n",
      "138 positive articles (around 7.90% of the positive dataset) are classified as negative\n",
      "\n",
      "4646 negative articles (around 30.55% of the negative dataset) are classified as positive, which implies some negative articles may be wrongly classified by the PubMed\n"
     ]
    }
   ],
   "source": [
    "print(\"The size of the whole dataset (articles with MeSH term: Heart Transplantation): \", sz_whole)\n",
    "print(\"The size of the positive dataset (articles with MeSH term: Heart Transplantation and with Qualifier: Mortality): \", sz_p)\n",
    "print(\"The size of the negative dataset (articles with MeSH term: Heart Transplantation and without Qualifier: Mortality): \", sz_n)\n",
    "print(\"%d positive articles (around %.2f%% of the positive dataset) are classified as negative\" % (cm[1][0],100*cm[1][0]/sz_p))\n",
    "print()\n",
    "print(\"%d negative articles (around %.2f%% of the negative dataset) are classified as positive,\" % (cm[0][1],100*cm[0][1]/sz_n),\"which implies some negative articles may be wrongly classified by the PubMed\")\n"
   ]
  },
  {
   "cell_type": "code",
   "execution_count": null,
   "id": "9e3e6271",
   "metadata": {},
   "outputs": [],
   "source": []
  }
 ],
 "metadata": {
  "kernelspec": {
   "display_name": "Python 3 (ipykernel)",
   "language": "python",
   "name": "python3"
  },
  "language_info": {
   "codemirror_mode": {
    "name": "ipython",
    "version": 3
   },
   "file_extension": ".py",
   "mimetype": "text/x-python",
   "name": "python",
   "nbconvert_exporter": "python",
   "pygments_lexer": "ipython3",
   "version": "3.8.13"
  }
 },
 "nbformat": 4,
 "nbformat_minor": 5
}
