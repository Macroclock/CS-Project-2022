{
 "cells": [
  {
   "cell_type": "markdown",
   "id": "d5122da6",
   "metadata": {},
   "source": [
    "# Logistic regression model built on scikit-learn\n",
    "\n",
    "## Note: all the articles were published from 2000 to 2021, and all of them have abstracts in the database\n",
    "\n",
    "1.Build a new classifier\n",
    "\n",
    "    Positive dataset: articles with MeSH term \"Heart Transplantation\" and qualifier \"Mortality\"\n",
    "    \n",
    "    Negative dataset: articles with MeSH term \"Heart Transplantation\" and without qualifier \"Mortality\"\n",
    "\n",
    "    Training dataset: 1000*2 articles, Validation dataset: 500*2 articles, Test dataset: 246 positive; 13707 negative\n",
    "    \n",
    "2.Perform classifier to all the articles with MeSH term \"Heart Transplantation\" and without qualifier \"Mortality\" to see if there are some of them classified as positive\n",
    "\n",
    "3.Perform classifier to the articles that have the qualifier \"Mortality\" to see if they are properly detected as positive"
   ]
  },
  {
   "cell_type": "markdown",
   "id": "38f1426e",
   "metadata": {},
   "source": [
    "### Construct the model with scikit-learn"
   ]
  },
  {
   "cell_type": "code",
   "execution_count": 1,
   "id": "22cb3d74",
   "metadata": {},
   "outputs": [],
   "source": [
    "## Load all the 1000*2 training dataset scraped\n",
    "from sklearn.datasets import load_files\n",
    "\n",
    "PATH = 'training dataset'\n",
    "DESCR = 'positive negative dataset'\n",
    "categories = ['positive', 'negative']\n",
    "train_data = load_files(container_path=PATH, description=DESCR, shuffle=True, random_state = 40)\n",
    "for i in range(len(train_data.data)):\n",
    "    train_data.data[i] = str(train_data.data[i])\n",
    "    train_data.data[i] = train_data.data[i].replace(train_data.data[i][0:2], \"\")\n",
    "    train_data.data[i] = train_data.data[i].replace(train_data.data[i][-1], \"\")"
   ]
  },
  {
   "cell_type": "code",
   "execution_count": 2,
   "id": "1c3fc479",
   "metadata": {},
   "outputs": [
    {
     "data": {
      "text/plain": [
       "Pipeline(steps=[('vect', CountVectorizer()), ('tfidf', TfidfTransformer()),\n",
       "                ('clf', LogisticRegression())])"
      ]
     },
     "execution_count": 2,
     "metadata": {},
     "output_type": "execute_result"
    }
   ],
   "source": [
    "## Construct the popeline\n",
    "from sklearn.pipeline import Pipeline\n",
    "from sklearn.feature_extraction.text import CountVectorizer\n",
    "from sklearn.feature_extraction.text import TfidfTransformer\n",
    "from sklearn.linear_model import LogisticRegression\n",
    "text_clf = Pipeline([\n",
    "    ('vect', CountVectorizer()),\n",
    "    ('tfidf', TfidfTransformer()),\n",
    "    ('clf', LogisticRegression())\n",
    "])\n",
    "text_clf.fit(train_data.data, train_data.target)"
   ]
  },
  {
   "cell_type": "markdown",
   "id": "4c512b35",
   "metadata": {},
   "source": [
    "### Training dataset"
   ]
  },
  {
   "cell_type": "code",
   "execution_count": 3,
   "id": "d9e6ce59",
   "metadata": {},
   "outputs": [
    {
     "name": "stdout",
     "output_type": "stream",
     "text": [
      "Accuracy:  0.9255\n"
     ]
    }
   ],
   "source": [
    "## Validate the model with 500*2 test dataset scraped\n",
    "import numpy as np\n",
    "PATH = 'validation dataset'\n",
    "predicted = text_clf.predict(train_data.data)\n",
    "score = np.mean(predicted == train_data.target)\n",
    "print(\"Accuracy: \",score)"
   ]
  },
  {
   "cell_type": "code",
   "execution_count": 4,
   "id": "f8d6e339",
   "metadata": {},
   "outputs": [
    {
     "name": "stdout",
     "output_type": "stream",
     "text": [
      "              precision    recall  f1-score   support\n",
      "\n",
      "    negative       0.92      0.93      0.93      1000\n",
      "    positive       0.93      0.92      0.92      1000\n",
      "\n",
      "    accuracy                           0.93      2000\n",
      "   macro avg       0.93      0.93      0.93      2000\n",
      "weighted avg       0.93      0.93      0.93      2000\n",
      "\n",
      "Macro-F1 score: 0.9254958091392641\n"
     ]
    }
   ],
   "source": [
    "## Evaluate the model\n",
    "from sklearn import metrics\n",
    "# predicted_train = text_clf.predict(train_data.data)\n",
    "f1 = metrics.f1_score(train_data.target, predicted, average='macro')\n",
    "print(metrics.classification_report(train_data.target, predicted,\n",
    "target_names=train_data.target_names))\n",
    "print(\"Macro-F1 score: {0}\".format(f1))"
   ]
  },
  {
   "cell_type": "code",
   "execution_count": 5,
   "id": "7a759a02",
   "metadata": {},
   "outputs": [
    {
     "data": {
      "image/png": "[encoded data removed]",
      "text/plain": [
       "<Figure size 720x720 with 2 Axes>"
      ]
     },
     "metadata": {
      "needs_background": "light"
     },
     "output_type": "display_data"
    }
   ],
   "source": [
    "## Evaluate the model\n",
    "import seaborn as sns\n",
    "import matplotlib.pyplot as plt\n",
    "cm = metrics.confusion_matrix(train_data.target, predicted)\n",
    "plt.figure(figsize=(10,10))\n",
    "sns.heatmap(cm, annot=True, fmt=\".0f\", linewidths=1, square = True);\n",
    "plt.ylabel('Actual label');\n",
    "plt.xlabel('Predicted label');\n",
    "plt.title('Accuracy Score: {0}'.format(score), size = 8);"
   ]
  },
  {
   "cell_type": "markdown",
   "id": "e6129673",
   "metadata": {},
   "source": [
    "### Validation dataset"
   ]
  },
  {
   "cell_type": "code",
   "execution_count": 6,
   "id": "d727dca7",
   "metadata": {},
   "outputs": [
    {
     "name": "stdout",
     "output_type": "stream",
     "text": [
      "Accuracy:  0.894\n"
     ]
    }
   ],
   "source": [
    "## Validate the model with 500*2 test dataset scraped\n",
    "import numpy as np\n",
    "PATH = 'validation dataset'\n",
    "val_data = load_files(container_path=PATH, description=DESCR, shuffle=True, random_state = 40)\n",
    "for i in range(len(val_data.data)):\n",
    "    val_data.data[i] = str(val_data.data[i])\n",
    "    val_data.data[i] = val_data.data[i].replace(val_data.data[i][0:2], \"\")\n",
    "    val_data.data[i] = val_data.data[i].replace(val_data.data[i][-1], \"\")\n",
    "predicted = text_clf.predict(val_data.data)\n",
    "score = np.mean(predicted == val_data.target)\n",
    "print(\"Accuracy: \",score)"
   ]
  },
  {
   "cell_type": "code",
   "execution_count": 7,
   "id": "9a82a087",
   "metadata": {},
   "outputs": [
    {
     "name": "stdout",
     "output_type": "stream",
     "text": [
      "              precision    recall  f1-score   support\n",
      "\n",
      "    negative       0.93      0.85      0.89       500\n",
      "    positive       0.86      0.93      0.90       500\n",
      "\n",
      "    accuracy                           0.89      1000\n",
      "   macro avg       0.90      0.89      0.89      1000\n",
      "weighted avg       0.90      0.89      0.89      1000\n",
      "\n",
      "Macro-F1 score: 0.8938301282051282\n"
     ]
    }
   ],
   "source": [
    "## Evaluate the model\n",
    "from sklearn import metrics\n",
    "# predicted_train = text_clf.predict(train_data.data)\n",
    "f1 = metrics.f1_score(val_data.target, predicted, average='macro')\n",
    "print(metrics.classification_report(val_data.target, predicted,\n",
    "target_names=val_data.target_names))\n",
    "print(\"Macro-F1 score: {0}\".format(f1))"
   ]
  },
  {
   "cell_type": "code",
   "execution_count": 8,
   "id": "b22b0e06",
   "metadata": {},
   "outputs": [
    {
     "data": {
      "image/png": "[encoded data removed]",
      "text/plain": [
       "<Figure size 720x720 with 2 Axes>"
      ]
     },
     "metadata": {
      "needs_background": "light"
     },
     "output_type": "display_data"
    }
   ],
   "source": [
    "## Evaluate the model\n",
    "import seaborn as sns\n",
    "import matplotlib.pyplot as plt\n",
    "cm = metrics.confusion_matrix(val_data.target, predicted)\n",
    "plt.figure(figsize=(10,10))\n",
    "sns.heatmap(cm, annot=True, fmt=\".0f\", linewidths=1, square = True);\n",
    "plt.ylabel('Actual label');\n",
    "plt.xlabel('Predicted label');\n",
    "plt.title('Accuracy Score: {0}'.format(score), size = 8);"
   ]
  },
  {
   "cell_type": "markdown",
   "id": "4fa0fc9c",
   "metadata": {},
   "source": [
    "### Test dataset"
   ]
  },
  {
   "cell_type": "code",
   "execution_count": 7,
   "id": "2e8cbe20",
   "metadata": {},
   "outputs": [],
   "source": [
    "## Load all the 1000*2 training dataset scraped\n",
    "from sklearn.datasets import load_files\n",
    "\n",
    "PATH = 'test-246 dataset'\n",
    "DESCR = 'positive negative dataset'\n",
    "categories = ['positive', 'negative']\n",
    "test_data = load_files(container_path=PATH, description=DESCR, shuffle=True, random_state = 40)\n",
    "for i in range(len(test_data.data)):\n",
    "    test_data.data[i] = str(test_data.data[i])\n",
    "    test_data.data[i] = test_data.data[i].replace(test_data.data[i][0:2], \"\")\n",
    "    test_data.data[i] = test_data.data[i].replace(test_data.data[i][-1], \"\")"
   ]
  },
  {
   "cell_type": "code",
   "execution_count": 9,
   "id": "9f727b44",
   "metadata": {},
   "outputs": [
    {
     "name": "stdout",
     "output_type": "stream",
     "text": [
      "Accuracy:  0.741869918699187\n"
     ]
    }
   ],
   "source": [
    "import numpy as np\n",
    "predicted = text_clf.predict(test_data.data)\n",
    "score = np.mean(predicted == test_data.target)\n",
    "print(\"Accuracy: \",score)"
   ]
  },
  {
   "cell_type": "code",
   "execution_count": 10,
   "id": "1bcb10c3",
   "metadata": {},
   "outputs": [
    {
     "name": "stdout",
     "output_type": "stream",
     "text": [
      "              precision    recall  f1-score   support\n",
      "\n",
      "    negative       0.90      0.54      0.68       246\n",
      "    positive       0.67      0.94      0.79       246\n",
      "\n",
      "    accuracy                           0.74       492\n",
      "   macro avg       0.79      0.74      0.73       492\n",
      "weighted avg       0.79      0.74      0.73       492\n",
      "\n",
      "Macro-F1 score: 0.7309773833972695\n"
     ]
    }
   ],
   "source": [
    "## Evaluate the model\n",
    "from sklearn import metrics\n",
    "# predicted_train = text_clf.predict(train_data.data)\n",
    "f1 = metrics.f1_score(test_data.target, predicted, average='macro')\n",
    "print(metrics.classification_report(test_data.target, predicted,\n",
    "target_names=test_data.target_names))\n",
    "print(\"Macro-F1 score: {0}\".format(f1))"
   ]
  },
  {
   "cell_type": "code",
   "execution_count": 11,
   "id": "6ac3369b",
   "metadata": {},
   "outputs": [
    {
     "data": {
      "image/png": "[encoded data removed]",
      "text/plain": [
       "<Figure size 720x720 with 2 Axes>"
      ]
     },
     "metadata": {
      "needs_background": "light"
     },
     "output_type": "display_data"
    }
   ],
   "source": [
    "## Evaluate the model\n",
    "import seaborn as sns\n",
    "import matplotlib.pyplot as plt\n",
    "cm = metrics.confusion_matrix(test_data.target, predicted)\n",
    "plt.figure(figsize=(10,10))\n",
    "sns.heatmap(cm, annot=True, fmt=\".0f\", linewidths=1, square = True);\n",
    "plt.ylabel('Actual label');\n",
    "plt.xlabel('Predicted label');\n",
    "plt.title('Accuracy Score: {0}'.format(score), size = 8);"
   ]
  },
  {
   "cell_type": "markdown",
   "id": "a0770472",
   "metadata": {},
   "source": [
    "### 100 articles evaluation"
   ]
  },
  {
   "cell_type": "markdown",
   "id": "9d51d0c2",
   "metadata": {},
   "source": [
    "extract articles"
   ]
  },
  {
   "cell_type": "code",
   "execution_count": 19,
   "id": "95e71b29",
   "metadata": {},
   "outputs": [],
   "source": [
    "import random\n",
    "import sqlite3\n",
    "import ast\n",
    "import copy\n",
    "import os"
   ]
  },
  {
   "cell_type": "code",
   "execution_count": 20,
   "id": "b6d40cc0",
   "metadata": {},
   "outputs": [],
   "source": [
    "neg_list = []\n",
    "neg_dict = {}\n",
    "path = 'test dataset/negative'\n",
    "files= os.listdir(path)\n",
    "for i in range(50):\n",
    "    position = random.choice(files[10000:])\n",
    "    files.remove(position) # avoid replicated ones\n",
    "    neg_dict[position[:-4]] = 0\n",
    "neg_list = list(neg_dict.keys())"
   ]
  },
  {
   "cell_type": "code",
   "execution_count": 77,
   "id": "21cc81ec",
   "metadata": {},
   "outputs": [],
   "source": [
    "## Extract the 50 articles from positive test dataset\n",
    "pos_list = []\n",
    "pos_dict = {}\n",
    "path = 'test dataset/positive'\n",
    "files= os.listdir(path)\n",
    "for i in range(50):\n",
    "    position = random.choice(files)\n",
    "    files.remove(position)\n",
    "    pos_dict[position[:-4]] = 1\n",
    "pos_list = list(pos_dict.keys())"
   ]
  },
  {
   "cell_type": "code",
   "execution_count": 78,
   "id": "276938c8",
   "metadata": {
    "scrolled": true
   },
   "outputs": [],
   "source": [
    "all_dict = copy.deepcopy(pos_dict)\n",
    "all_dict.update(neg_dict)\n",
    "all_list = pos_list + neg_list"
   ]
  },
  {
   "cell_type": "code",
   "execution_count": 79,
   "id": "cc3a6195",
   "metadata": {},
   "outputs": [],
   "source": [
    "conn = sqlite3.connect('D:\\\\PubMed_Sqlite3\\\\pubmed.db')\n",
    "cu = conn.cursor()\n",
    "all_text = {}\n",
    "statement = \"SELECT * from articles  WHERE pmid in ({0})\".format(', '.join(['?'] * len(all_list)))\n",
    "article = cu.execute(statement, all_list)\n",
    "for row in article:\n",
    "    s = \"\"\n",
    "    pmid = row[0]\n",
    "    abstact = row[2]\n",
    "    abstract_dic = ast.literal_eval(abstact)\n",
    "    \n",
    "    for subt in abstract_dic:\n",
    "        s1 = subt[\"Text\"]\n",
    "        if s1 == None:\n",
    "            continue\n",
    "\n",
    "        else:\n",
    "            if s == \"\":\n",
    "                s = s + s1 \n",
    "            else:\n",
    "                s = s + \" \" + s1\n",
    "        s1 = \"\"\n",
    "\n",
    "    if s == \"\":\n",
    "        print(\"article without the abstract, the pmid is %s\" % pmid)\n",
    "        continue\n",
    "    all_text[pmid] = s\n",
    "conn.close()"
   ]
  },
  {
   "cell_type": "code",
   "execution_count": 80,
   "id": "9d5e532d",
   "metadata": {},
   "outputs": [],
   "source": [
    "random.shuffle(all_list)\n",
    "new_dict = {}\n",
    "new_text = {}\n",
    "for key in all_list:\n",
    "    new_dict[key] = all_dict.get(key)\n",
    "\n",
    "for key in all_list:\n",
    "    new_text[key] = all_text.get(key)"
   ]
  },
  {
   "cell_type": "markdown",
   "id": "0eeee9ce",
   "metadata": {},
   "source": [
    "Generate 100 PMIDs"
   ]
  },
  {
   "cell_type": "code",
   "execution_count": 82,
   "id": "72a5e63a",
   "metadata": {},
   "outputs": [],
   "source": [
    "p = \"100 articles evaluation/100_pmid_keys.txt\"\n",
    "f=open(p, \"a\",encoding='utf-8')\n",
    "i = 1\n",
    "f.truncate(0)\n",
    "for key in new_dict:\n",
    "    f.write(\"NO: %d PMID: \" % (i) + key + \" Class: %d\\n\" % new_dict[key])\n",
    "    i += 1\n",
    "f.close()"
   ]
  },
  {
   "cell_type": "markdown",
   "id": "a303a52b",
   "metadata": {},
   "source": [
    "Generate 100 abstracts"
   ]
  },
  {
   "cell_type": "code",
   "execution_count": 113,
   "id": "41b69c05",
   "metadata": {},
   "outputs": [],
   "source": [
    "p = \"100 articles evaluation/100_articles.txt\"\n",
    "f=open(p, \"a\",encoding='utf-8')\n",
    "f.truncate(0)\n",
    "i = 1\n",
    "join = []\n",
    "for key in new_text:\n",
    "#     split = new_text[key].split(\"\")\n",
    "    split = list(new_text[key])\n",
    "    n = 100\n",
    "    times = len(split) // n\n",
    "    for k in range(times+1):\n",
    "        if k == 0:\n",
    "            f.write(\"NO: %d\\n\" % (i))\n",
    "            join = \"\".join(split[k*n:(k+1)*n])\n",
    "        elif k < times:\n",
    "            join = \"\".join(split[k*n:(k+1)*n])\n",
    "        else:\n",
    "            join = \"\".join(split[k*n:])\n",
    "        f.write(join + \"\\n\")\n",
    "    f.write(\"\\n\")\n",
    "    i += 1\n",
    "f.close()"
   ]
  },
  {
   "cell_type": "markdown",
   "id": "a357c8d4",
   "metadata": {},
   "source": [
    "### 100 articles predicted by the classifier"
   ]
  },
  {
   "cell_type": "code",
   "execution_count": 3,
   "id": "b2db8eea",
   "metadata": {},
   "outputs": [],
   "source": [
    "p = \"100 articles evaluation/100_pmid_keys.txt\"\n",
    "with open(p, \"r\",encoding='utf-8') as f:\n",
    "    pmid = f.read()"
   ]
  },
  {
   "cell_type": "code",
   "execution_count": 4,
   "id": "cdfd84f0",
   "metadata": {},
   "outputs": [],
   "source": [
    "## PMID\n",
    "pmid_temp_list = pmid.split(\"PMID: \")\n",
    "pmid_list = []\n",
    "for i in range(len(pmid_temp_list)-1):\n",
    "    index = pmid_temp_list[i+1].index(\" \")\n",
    "    pmid_list.append(pmid_temp_list[i+1][:index])"
   ]
  },
  {
   "cell_type": "code",
   "execution_count": 5,
   "id": "23c95ff5",
   "metadata": {},
   "outputs": [],
   "source": [
    "## tags from website\n",
    "tag_web_list = []\n",
    "for i in range(len(pmid_temp_list)-1):\n",
    "    index = pmid_temp_list[i+1].index(\"\\n\")\n",
    "    tag_web_list.append(int(pmid_temp_list[i+1][index-1]))"
   ]
  },
  {
   "cell_type": "code",
   "execution_count": 15,
   "id": "cc2ae7d3",
   "metadata": {},
   "outputs": [],
   "source": [
    "import sqlite3\n",
    "import ast\n",
    "conn = sqlite3.connect('D:\\\\PubMed_Sqlite3\\\\pubmed.db')\n",
    "cu = conn.cursor()\n",
    "all_text = []\n",
    "statement = \"SELECT pmid,abstract from articles  WHERE pmid = ?\"\n",
    "for i in pmid_list:\n",
    "    article = cu.execute(statement, (i,))\n",
    "    for row in article:\n",
    "        s = \"\"\n",
    "        pmid = row[0]\n",
    "        abstact = row[1]\n",
    "        abstract_dic = ast.literal_eval(abstact)\n",
    "\n",
    "        for subt in abstract_dic:\n",
    "            s1 = subt[\"Text\"]\n",
    "            if s1 == None:\n",
    "                continue\n",
    "\n",
    "            else:\n",
    "                if s == \"\":\n",
    "                    s = s + s1 \n",
    "                else:\n",
    "                    s = s + \" \" + s1\n",
    "            s1 = \"\"\n",
    "\n",
    "        if s == \"\":\n",
    "            print(\"article without the abstract, the pmid is %s\" % pmid)\n",
    "            continue\n",
    "        all_text.append(s)\n",
    "conn.close()"
   ]
  },
  {
   "cell_type": "code",
   "execution_count": 16,
   "id": "3445b8ec",
   "metadata": {},
   "outputs": [
    {
     "name": "stdout",
     "output_type": "stream",
     "text": [
      "Accuracy:  0.7333333333333333\n"
     ]
    }
   ],
   "source": [
    "tag_classifier_list = text_clf.predict(all_text)\n",
    "score = np.mean(tag_classifier_list[0:30] == tag_web_list[0:30])\n",
    "print(\"Accuracy: \",score)"
   ]
  },
  {
   "cell_type": "code",
   "execution_count": 17,
   "id": "6c979814",
   "metadata": {},
   "outputs": [
    {
     "name": "stdout",
     "output_type": "stream",
     "text": [
      "NO: 5 doesn't have qualifier while classfied as positive\n",
      "NO: 6 doesn't have qualifier while classfied as positive\n",
      "NO: 7 doesn't have qualifier while classfied as positive\n",
      "NO: 12 has qualifier while classfied as negative\n",
      "NO: 21 doesn't have qualifier while classfied as positive\n",
      "NO: 22 doesn't have qualifier while classfied as positive\n",
      "NO: 24 doesn't have qualifier while classfied as positive\n",
      "NO: 26 doesn't have qualifier while classfied as positive\n"
     ]
    }
   ],
   "source": [
    "for i in range(30):\n",
    "    if tag_classifier_list[i] == 0 and int(tag_web_list[i]) == 1:\n",
    "        print(\"NO: %d\" % (i+1) , \"has qualifier while classfied as negative\")\n",
    "    if tag_classifier_list[i] == 1 and int(tag_web_list[i]) == 0:\n",
    "        print(\"NO: %d\" % (i+1) , \"doesn't have qualifier while classfied as positive\")        "
   ]
  },
  {
   "cell_type": "code",
   "execution_count": 18,
   "id": "192200de",
   "metadata": {},
   "outputs": [
    {
     "name": "stdout",
     "output_type": "stream",
     "text": [
      "              precision    recall  f1-score   support\n",
      "\n",
      "           0       0.89      0.53      0.67        15\n",
      "           1       0.67      0.93      0.78        15\n",
      "\n",
      "    accuracy                           0.73        30\n",
      "   macro avg       0.78      0.73      0.72        30\n",
      "weighted avg       0.78      0.73      0.72        30\n",
      "\n",
      "Macro-F1 score: 0.7222222222222223\n"
     ]
    }
   ],
   "source": [
    "## Evaluate the model\n",
    "from sklearn import metrics\n",
    "f1 = metrics.f1_score(tag_web_list[0:30], tag_classifier_list[0:30], average='macro')\n",
    "print(metrics.classification_report(tag_web_list[0:30], tag_classifier_list[0:30]))\n",
    "print(\"Macro-F1 score: {0}\".format(f1))"
   ]
  },
  {
   "cell_type": "code",
   "execution_count": 19,
   "id": "7cea4b36",
   "metadata": {},
   "outputs": [
    {
     "data": {
      "image/png": "[encoded data removed]",
      "text/plain": [
       "<Figure size 720x720 with 2 Axes>"
      ]
     },
     "metadata": {
      "needs_background": "light"
     },
     "output_type": "display_data"
    }
   ],
   "source": [
    "## Evaluate the model\n",
    "import seaborn as sns\n",
    "import matplotlib.pyplot as plt\n",
    "cm = metrics.confusion_matrix(tag_web_list[0:30], tag_classifier_list[0:30])\n",
    "plt.figure(figsize=(10,10))\n",
    "sns.heatmap(cm, annot=True, fmt=\".0f\", linewidths=1, square = True);\n",
    "plt.ylabel('Actual label');\n",
    "plt.xlabel('Predicted label');\n",
    "plt.title('Accuracy Score: {0}'.format(score), size = 8);"
   ]
  },
  {
   "cell_type": "markdown",
   "id": "7b3abf51",
   "metadata": {},
   "source": [
    "### Comparison\n",
    "\n",
    "#### classified by Johan Nilsson\n",
    "\n",
    "Of the abstract with number 1-30 I think the following 15 abstract are related to mortality:\n",
    "\n",
    "2,4,8,9,11,12,16,18,20,22,23,24,27,28,30,(1,6,7,17,26)\n",
    "\n",
    "#### classified by PubMed\n",
    "\n",
    "1,2,4,8,9,11,12,16,17,18,19,20,27,28,30\n",
    "\n",
    "#### classified by the tfidf model\n",
    "\n",
    "1,2,4,5,6,7,8,9,11,16,17,18,19,20,21,22,24,26,27,28,30\n",
    "\n",
    "#### classified by the distilBERT model\n",
    "\n",
    "1,2,4,5,6,7,8,9,11,12,16,17,19,20,22,24,26,27,28,30\n",
    "\n",
    "\n",
    "26: border line\n",
    "21: too short abstract\n",
    "6: border line"
   ]
  },
  {
   "cell_type": "code",
   "execution_count": null,
   "id": "cd1b09ad",
   "metadata": {},
   "outputs": [],
   "source": []
  }
 ],
 "metadata": {
  "kernelspec": {
   "display_name": "Python 3 (ipykernel)",
   "language": "python",
   "name": "python3"
  },
  "language_info": {
   "codemirror_mode": {
    "name": "ipython",
    "version": 3
   },
   "file_extension": ".py",
   "mimetype": "text/x-python",
   "name": "python",
   "nbconvert_exporter": "python",
   "pygments_lexer": "ipython3",
   "version": "3.8.13"
  }
 },
 "nbformat": 4,
 "nbformat_minor": 5
}
